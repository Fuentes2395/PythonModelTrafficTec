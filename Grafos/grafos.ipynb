{
 "cells": [
  {
   "cell_type": "code",
   "execution_count": 1,
   "metadata": {},
   "outputs": [
    {
     "name": "stdout",
     "output_type": "stream",
     "text": [
      "Requirement already satisfied: networkx[default] in c:\\users\\anafe\\appdata\\local\\programs\\python\\python38-32\\lib\\site-packages (2.8.5)\n",
      "Requirement already satisfied: scipy>=1.8 in c:\\users\\anafe\\appdata\\local\\programs\\python\\python38-32\\lib\\site-packages (from networkx[default]) (1.9.0)\n",
      "Requirement already satisfied: matplotlib>=3.4 in c:\\users\\anafe\\appdata\\local\\programs\\python\\python38-32\\lib\\site-packages (from networkx[default]) (3.5.2)\n",
      "Requirement already satisfied: numpy>=1.19 in c:\\users\\anafe\\appdata\\local\\programs\\python\\python38-32\\lib\\site-packages (from networkx[default]) (1.23.1)\n",
      "Requirement already satisfied: pandas>=1.3 in c:\\users\\anafe\\appdata\\local\\programs\\python\\python38-32\\lib\\site-packages (from networkx[default]) (1.4.3)\n",
      "Requirement already satisfied: pillow>=6.2.0 in c:\\users\\anafe\\appdata\\local\\programs\\python\\python38-32\\lib\\site-packages (from matplotlib>=3.4->networkx[default]) (9.2.0)\n",
      "Requirement already satisfied: cycler>=0.10 in c:\\users\\anafe\\appdata\\local\\programs\\python\\python38-32\\lib\\site-packages (from matplotlib>=3.4->networkx[default]) (0.11.0)\n",
      "Requirement already satisfied: python-dateutil>=2.7 in c:\\users\\anafe\\appdata\\local\\programs\\python\\python38-32\\lib\\site-packages (from matplotlib>=3.4->networkx[default]) (2.8.2)\n",
      "Requirement already satisfied: pyparsing>=2.2.1 in c:\\users\\anafe\\appdata\\local\\programs\\python\\python38-32\\lib\\site-packages (from matplotlib>=3.4->networkx[default]) (3.0.9)\n",
      "Requirement already satisfied: kiwisolver>=1.0.1 in c:\\users\\anafe\\appdata\\local\\programs\\python\\python38-32\\lib\\site-packages (from matplotlib>=3.4->networkx[default]) (1.4.4)\n",
      "Requirement already satisfied: packaging>=20.0 in c:\\users\\anafe\\appdata\\local\\programs\\python\\python38-32\\lib\\site-packages (from matplotlib>=3.4->networkx[default]) (21.3)\n",
      "Requirement already satisfied: fonttools>=4.22.0 in c:\\users\\anafe\\appdata\\local\\programs\\python\\python38-32\\lib\\site-packages (from matplotlib>=3.4->networkx[default]) (4.34.4)\n",
      "Requirement already satisfied: pytz>=2020.1 in c:\\users\\anafe\\appdata\\local\\programs\\python\\python38-32\\lib\\site-packages (from pandas>=1.3->networkx[default]) (2022.1)\n",
      "Requirement already satisfied: six>=1.5 in c:\\users\\anafe\\appdata\\local\\programs\\python\\python38-32\\lib\\site-packages (from python-dateutil>=2.7->matplotlib>=3.4->networkx[default]) (1.16.0)\n",
      "Note: you may need to restart the kernel to use updated packages.\n"
     ]
    }
   ],
   "source": [
    "pip install networkx[default]"
   ]
  },
  {
   "cell_type": "code",
   "execution_count": 3,
   "metadata": {},
   "outputs": [],
   "source": [
    "#https://networkx.org/documentation \n",
    "import networkx as nx\n",
    "\n",
    "\n",
    "import matplotlib.pyplot as plt\n",
    "import numpy as np\n",
    "import math\n",
    "import matplotlib.animation as animation"
   ]
  },
  {
   "cell_type": "code",
   "execution_count": 4,
   "metadata": {},
   "outputs": [],
   "source": [
    "salida = '1,1'    #input(\"Punto de partida: \")\n",
    "meta = '6.7,7.5' #input(\"Meta: \")"
   ]
  },
  {
   "cell_type": "code",
   "execution_count": 5,
   "metadata": {},
   "outputs": [],
   "source": [
    "hora = 3 #input(\"Hora: \") \n",
    "#hora = int(hora)"
   ]
  },
  {
   "cell_type": "code",
   "execution_count": 17,
   "metadata": {},
   "outputs": [],
   "source": [
    "#https://www.youtube.com/watch?v=PouhDHfssYA \n",
    "G = nx.Graph()\n",
    "if hora <= 6 or hora >= 22:\n",
    "  G.add_edge(\"1,1\", \"2,7\", weight=466)\n",
    "  G.add_edge(\"2,7\", \"6.7,7.5\", weight=347*1.5)\n",
    "  G.add_edge(\"6.7,7.5\", \"6.3, 10\", weight=158)\n",
    "  G.add_edge(\"6.7,7.5\", \"7.5,4\", weight= 231.5)\n",
    "  G.add_edge(\"7.5,4\", \"8,1.6\", weight=231.5)\n",
    "  G.add_edge(\"8,1.6\", \"9,1.8\", weight=96)\n",
    "  G.add_edge(\"8,1.6\",\"1,1\", weight=900)\n",
    "  G.add_edge(\"9,1.8\", \"12,2.3\", weight=202)\n",
    "elif hora >= 7 or hora == 8 or hora == 10 or hora == 16 or hora == 21:\n",
    "  G.add_edge(\"1,1\", \"2,7\", weight=466)\n",
    "  G.add_edge(\"2,7\", \"6.7,7.5\", weight=347*1.5)\n",
    "  G.add_edge(\"6.7,7.5\", \"6.3, 10\", weight=158)\n",
    "  G.add_edge(\"6.7,7.5\", \"7.5,4\", weight= 231.5)\n",
    "  G.add_edge(\"7.5,4\", \"8,1.6\", weight=231.5)\n",
    "  G.add_edge(\"8,1.6\", \"9,1.8\", weight=96)\n",
    "  G.add_edge(\"8,1.6\",\"1,1\", weight=900)\n",
    "  G.add_edge(\"9,1.8\", \"12,2.3\", weight=202)\n",
    "elif hora == 9 or hora == 11 or hora == 12 or hora == 17 or hora == 18 or hora == 19 or hora == 20:\n",
    "  G.add_edge(\"1,1\", \"2,7\", weight=466)\n",
    "  G.add_edge(\"2,7\", \"6.7,7.5\", weight=347*1.5)\n",
    "  G.add_edge(\"6.7,7.5\", \"6.3, 10\", weight=158)\n",
    "  G.add_edge(\"6.7,7.5\", \"7.5,4\", weight= 231.5)\n",
    "  G.add_edge(\"7.5,4\", \"8,1.6\", weight=231.5)\n",
    "  G.add_edge(\"8,1.6\", \"9,1.8\", weight=96)\n",
    "  G.add_edge(\"8,1.6\",\"1,1\", weight=900)\n",
    "  G.add_edge(\"9,1.8\", \"12,2.3\", weight=202)\n",
    "elif hora == 13 or hora == 14 or hora == 15:\n",
    "  G.add_edge(\"1,1\", \"2,7\", weight=466)\n",
    "  G.add_edge(\"2,7\", \"6.7,7.5\", weight=347*1.5)\n",
    "  G.add_edge(\"6.7,7.5\", \"6.3, 10\", weight=158)\n",
    "  G.add_edge(\"6.7,7.5\", \"7.5,4\", weight= 231.5)\n",
    "  G.add_edge(\"7.5,4\", \"8,1.6\", weight=231.5)\n",
    "  G.add_edge(\"8,1.6\", \"9,1.8\", weight=96)\n",
    "  G.add_edge(\"8,1.6\",\"1,1\", weight=900)\n",
    "  G.add_edge(\"9,1.8\", \"12,2.3\", weight=202)"
   ]
  },
  {
   "cell_type": "code",
   "execution_count": 18,
   "metadata": {},
   "outputs": [
    {
     "data": {
      "image/png": "[encoded data removed]",
      "text/plain": [
       "<Figure size 432x288 with 1 Axes>"
      ]
     },
     "metadata": {},
     "output_type": "display_data"
    }
   ],
   "source": [
    "nx.draw_networkx(G, with_labels = True)"
   ]
  },
  {
   "cell_type": "code",
   "execution_count": 19,
   "metadata": {},
   "outputs": [
    {
     "name": "stdout",
     "output_type": "stream",
     "text": [
      "['1,1', '2,7', '6.7,7.5']\n"
     ]
    }
   ],
   "source": [
    "#https://networkx.org/documentation/stable/reference/algorithms/generated/networkx.algorithms.shortest_paths.weighted.dijkstra_path.html \n",
    "print(nx.dijkstra_path(G, source=salida, target=meta))\n",
    "lista = nx.dijkstra_path(G, source=salida, target=meta)"
   ]
  },
  {
   "cell_type": "code",
   "execution_count": 20,
   "metadata": {},
   "outputs": [],
   "source": [
    "#converit lista de cordenadas a lista de rutas \n",
    "lista_rutas = []\n",
    "for i in range(len(lista)-1):\n",
    "    if (lista[i] or lista [i+1])== '1,1' and (lista[i] or lista [i+1]) == '2,7':\n",
    "        lista_rutas.append(1)\n",
    "    if (lista[i] or lista [i+1])== '2,7' and (lista[i] or lista [i+1]) == '6.7,7.5':\n",
    "        lista_rutas.append(2)\n",
    "    if (lista[i] or lista [i+1])== '6.7,7.5' and (lista[i] or lista [i+1]) == '6.3, 10':\n",
    "        lista_rutas.append(3)\n",
    "    if (lista[i] or lista [i+1])== '6.3, 10' and (lista[i] or lista [i+1]) == '7.5,4':\n",
    "        lista_rutas.append(4)\n",
    "    if (lista[i] or lista [i+1])== '7.5,4' and (lista[i] or lista [i+1]) == '8,1.6':\n",
    "        lista_rutas.append(5)\n",
    "    if (lista[i] or lista [i+1])== '8,1.6' and (lista[i] or lista [i+1]) == '9,1.8':\n",
    "        lista_rutas.append(6)\n",
    "    if (lista[i] or lista [i+1])== '9,1.8' and (lista[i] or lista [i+1]) == '12,2.3':\n",
    "        lista_rutas.append(7)\n",
    "        \n",
    "    \n",
    "      "
   ]
  },
  {
   "cell_type": "code",
   "execution_count": 22,
   "metadata": {},
   "outputs": [
    {
     "name": "stderr",
     "output_type": "stream",
     "text": [
      "c:\\Users\\rober\\AppData\\Local\\Programs\\Python\\Python310\\lib\\site-packages\\matplotlib\\animation.py:887: UserWarning: Animation was deleted without rendering anything. This is most likely not intended. To prevent deletion, assign the Animation to a variable, e.g. `anim`, that exists until you have outputted the Animation using `plt.show()` or `anim.save()`.\n",
      "  warnings.warn(\n"
     ]
    },
    {
     "data": {
      "image/png": "[encoded data removed]",
      "text/plain": [
       "<Figure size 144x144 with 1 Axes>"
      ]
     },
     "metadata": {
      "needs_background": "light"
     },
     "output_type": "display_data"
    }
   ],
   "source": [
    "plt.style.use('_mpl-gallery')\n",
    "fig, ax = plt.subplots()\n",
    "# make data\n",
    "\n",
    "\n",
    "# (1, 1) a (2, 7)\n",
    "x = np.linspace(1, 2, 100)\n",
    "y = 6 * x - 5\n",
    "\n",
    "# (2, 7) a (6.7, 7.5)\n",
    "x1 = np.linspace(2, 6.7, 100)\n",
    "y1 = (0.5 / 4.7) * x1 + 6.79\n",
    "\n",
    "# (6.7, 7.5) a (6.3, 10)\n",
    "x2 = np.linspace(6.3, 6.7, 100)\n",
    "y2 = (-6.25) * x2 + 49.375\n",
    "\n",
    "# (6.7, 7.5) a (7.5, 4)\n",
    "x3 = np.linspace(6.7, 7.5, 100)\n",
    "y3 = (-4.3749) * x3 + 36.8125\n",
    "\n",
    "# (7.5, 4) a (8, 1.6)\n",
    "x4 = np.linspace(7.5, 8, 100)\n",
    "y4 = (-4.8) * x4 + 40\n",
    "\n",
    "# (8, 1.6) a (1, 1)\n",
    "x5 = np.linspace(1, 8, 100)\n",
    "y5 = 0.0857 * x5 + 0.9143\n",
    "\n",
    "# (8, 1.6) a (9, 1.8)\n",
    "x6 = np.linspace(8, 9, 100)\n",
    "y6 = 0.2 * x6\n",
    "\n",
    "# (9, 1.8) a (12, 2.3)\n",
    "x7 = np.linspace(9, 12, 100)\n",
    "y7 = 0.167 * x7 + 0.3\n",
    "\n",
    "ax.plot(x, y, linewidth=2.0, color='black')\n",
    "ax.plot(x1, y1, linewidth=2.0, color='black')\n",
    "ax.plot(x2, y2, linewidth=2.0, color='black')\n",
    "ax.plot(x3, y3, linewidth=2.0, color='black')\n",
    "ax.plot(x4, y4, linewidth=2.0, color='black')\n",
    "ax.plot(x5, y5, linewidth=2.0, color='black')\n",
    "ax.plot(x6, y6, linewidth=2.0, color='black')\n",
    "ax.plot(x7, y7, linewidth=2.0, color='black')\n",
    "\n",
    "\n",
    "\n",
    "\n",
    "\n",
    "\n",
    "\n",
    "\n",
    "\n",
    "\n",
    "\n",
    "\n",
    "\n",
    "\n",
    "def data_gen(opciones):\n",
    "\n",
    "    for i in opciones:\n",
    "        # (1, 1) a (2, 7)\n",
    "        if opciones[i]==0:\n",
    "                t_max = 2.0\n",
    "                dt = 0.1\n",
    "                y = 0.0\n",
    "                t = 1.0\n",
    "                while t <= t_max:\n",
    "                    y = (6 * t )-5\n",
    "                    t = t + dt\n",
    "                    yield t, y\n",
    "        # (2, 7) a (6.7, 7.5)\n",
    "        elif opciones[i]==1:\n",
    "            t = 2.0\n",
    "            t_max = 6.7\n",
    "            dt = 0.1\n",
    "            y = 0.0\n",
    "            while t <= t_max:\n",
    "                y = (0.5 / 4.7) * t + 6.79\n",
    "                t = t + dt\n",
    "                yield t, y\n",
    "        # (6.7, 7.5) a (6.3, 10)\n",
    "        elif opciones[i]==2:    #####Cambiar \n",
    "            t = 6.7\n",
    "            t_max = 6.3\n",
    "            dt = -0.1\n",
    "            y = 0.0\n",
    "            while t >= t_max:\n",
    "                y = (-6.25) * t + 49.375\n",
    "                t = t + dt\n",
    "                yield t, y\n",
    "        # (6.7, 7.5) a (7.5, 4)\n",
    "        elif opciones[i]==3:\n",
    "            t = 6.7\n",
    "            t_max = 7.5\n",
    "            dt = 0.1\n",
    "            y = 0.0\n",
    "            while t <= t_max:\n",
    "                y = (-4.3749) * t + 36.8125\n",
    "                t = t + dt\n",
    "                yield t, y\n",
    "        # (7.5, 4) a (8, 1.6)\n",
    "        elif opciones[i]==4:\n",
    "            t = 7.5\n",
    "            t_max = 8\n",
    "            dt = 0.1\n",
    "            y = 0.0\n",
    "            while t <= t_max:\n",
    "                y = (-4.8) * t + 40\n",
    "                t = t + dt\n",
    "                yield t, y\n",
    "        # (8, 1.6) a (1, 1)        ####cambiar \n",
    "        elif opciones[i]==5:\n",
    "            t = 8\n",
    "            t_max = 1\n",
    "            dt = -0.1\n",
    "            y = 0.0\n",
    "            while t >= t_max:\n",
    "                y = 0.0857 * t + 0.9143\n",
    "                t = t + dt\n",
    "                yield t, y\n",
    "        # (8, 1.6) a (9, 1.8)\n",
    "        elif opciones[i]==6:\n",
    "            t = 8\n",
    "            t_max = 9\n",
    "            dt = 0.1\n",
    "            y = 0.0\n",
    "            while t <= t_max:\n",
    "                y = 0.2 * t\n",
    "                t = t + dt\n",
    "                yield t, y\n",
    "        # (9, 1.8) a (12, 2.3)\n",
    "        elif opciones[i]==7:\n",
    "            t = 9\n",
    "            t_max = 12\n",
    "            dt = 0.1\n",
    "            y = 0.0\n",
    "            while t <= t_max:\n",
    "                y = 0.167 * t + 0.3\n",
    "                t = t + dt\n",
    "                yield t, y\n",
    "\n",
    "\n",
    "\n",
    "\n",
    "\n",
    "def init():\n",
    "    ax.set_ylim(0, 15) #xticks=np.arange(1, 15) #yticks=np.arange(0, 15)\n",
    "    ax.set_xlim(0, 15)     #yticks=np.arange(1, 15)\n",
    "    #ax.set_xticks=np.arange(1, 15)\n",
    "    #ax.set_yticks=np.arange(1, 15)\n",
    "   # del ydata[:]\n",
    "   # point.set_data(xdata, ydata)\n",
    "    point.set_data(0,0)\n",
    "    return point,\n",
    "\n",
    "##fig, ax = plt.subplots()\n",
    "point, = ax.plot([],[],'o',markersize=3)\n",
    "ax.grid()\n",
    "\n",
    "\n",
    "\n",
    "def run(data):\n",
    "    # update the data\n",
    "    t,y = data\n",
    "    xdata = t\n",
    "    ydata = y\n",
    "    \n",
    "        \n",
    "        \n",
    "    point.set_data(xdata, ydata)\n",
    "\n",
    "\n",
    "\n",
    "    return point,\n",
    "\n",
    "\n",
    "\n",
    "\n",
    "\n",
    "anim0 = animation.FuncAnimation(fig, run, data_gen(lista_rutas) , interval=100, init_func=init, repeat=False)\n",
    "plt.show()\n",
    "#anim2=animation.FuncAnimation(fig, run, data_gen(2), interval=100, init_func=init, repeat=True)\n",
    "\n",
    "\n",
    "\n",
    "#fig, ax = plt.subplots()\n",
    "plt.show()\n",
    "\n"
   ]
  }
 ],
 "metadata": {
  "kernelspec": {
   "display_name": "Python 3.10.2 64-bit",
   "language": "python",
   "name": "python3"
  },
  "language_info": {
   "codemirror_mode": {
    "name": "ipython",
    "version": 3
   },
   "file_extension": ".py",
   "mimetype": "text/x-python",
   "name": "python",
   "nbconvert_exporter": "python",
   "pygments_lexer": "ipython3",
   "version": "3.10.2"
  },
  "orig_nbformat": 4,
  "vscode": {
   "interpreter": {
    "hash": "67783390838d2e02912aac04d405c75735cc05868bfeaabbe6ec2bbdb2e2542d"
   }
  }
 },
 "nbformat": 4,
 "nbformat_minor": 2
}
