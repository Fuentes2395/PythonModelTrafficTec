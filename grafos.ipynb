{
 "cells": [
  {
   "cell_type": "code",
   "execution_count": 1,
   "metadata": {},
   "outputs": [
    {
     "name": "stdout",
     "output_type": "stream",
     "text": [
      "Requirement already satisfied: networkx[default] in c:\\users\\rober\\appdata\\local\\programs\\python\\python310\\lib\\site-packages (2.8.5)\n",
      "Requirement already satisfied: scipy>=1.8 in c:\\users\\rober\\appdata\\local\\programs\\python\\python310\\lib\\site-packages (from networkx[default]) (1.9.0)\n",
      "Requirement already satisfied: numpy>=1.19 in c:\\users\\rober\\appdata\\local\\programs\\python\\python310\\lib\\site-packages (from networkx[default]) (1.23.1)\n",
      "Requirement already satisfied: matplotlib>=3.4 in c:\\users\\rober\\appdata\\local\\programs\\python\\python310\\lib\\site-packages (from networkx[default]) (3.5.2)\n",
      "Requirement already satisfied: pandas>=1.3 in c:\\users\\rober\\appdata\\local\\programs\\python\\python310\\lib\\site-packages (from networkx[default]) (1.4.3)\n",
      "Requirement already satisfied: pyparsing>=2.2.1 in c:\\users\\rober\\appdata\\local\\programs\\python\\python310\\lib\\site-packages (from matplotlib>=3.4->networkx[default]) (3.0.9)\n",
      "Requirement already satisfied: packaging>=20.0 in c:\\users\\rober\\appdata\\local\\programs\\python\\python310\\lib\\site-packages (from matplotlib>=3.4->networkx[default]) (21.3)\n",
      "Requirement already satisfied: cycler>=0.10 in c:\\users\\rober\\appdata\\local\\programs\\python\\python310\\lib\\site-packages (from matplotlib>=3.4->networkx[default]) (0.11.0)\n",
      "Requirement already satisfied: fonttools>=4.22.0 in c:\\users\\rober\\appdata\\local\\programs\\python\\python310\\lib\\site-packages (from matplotlib>=3.4->networkx[default]) (4.34.4)\n",
      "Requirement already satisfied: pillow>=6.2.0 in c:\\users\\rober\\appdata\\local\\programs\\python\\python310\\lib\\site-packages (from matplotlib>=3.4->networkx[default]) (9.2.0)\n",
      "Requirement already satisfied: kiwisolver>=1.0.1 in c:\\users\\rober\\appdata\\local\\programs\\python\\python310\\lib\\site-packages (from matplotlib>=3.4->networkx[default]) (1.4.4)\n",
      "Requirement already satisfied: python-dateutil>=2.7 in c:\\users\\rober\\appdata\\local\\programs\\python\\python310\\lib\\site-packages (from matplotlib>=3.4->networkx[default]) (2.8.2)\n",
      "Requirement already satisfied: pytz>=2020.1 in c:\\users\\rober\\appdata\\local\\programs\\python\\python310\\lib\\site-packages (from pandas>=1.3->networkx[default]) (2022.1)\n",
      "Requirement already satisfied: six>=1.5 in c:\\users\\rober\\appdata\\local\\programs\\python\\python310\\lib\\site-packages (from python-dateutil>=2.7->matplotlib>=3.4->networkx[default]) (1.16.0)\n",
      "Note: you may need to restart the kernel to use updated packages.\n"
     ]
    }
   ],
   "source": [
    "pip install networkx[default]"
   ]
  },
  {
   "cell_type": "code",
   "execution_count": 43,
   "metadata": {},
   "outputs": [],
   "source": [
    "#https://networkx.org/documentation \n",
    "import networkx as nx\n",
    "\n",
    "\n",
    "import matplotlib.pyplot as plt\n",
    "import numpy as np\n",
    "import math"
   ]
  },
  {
   "cell_type": "code",
   "execution_count": 8,
   "metadata": {},
   "outputs": [],
   "source": [
    "salida = input(\"Punto de partida: \")\n",
    "meta = input(\"Meta: \")"
   ]
  },
  {
   "cell_type": "code",
   "execution_count": 4,
   "metadata": {},
   "outputs": [],
   "source": [
    "hora = input(\"Hora: \")\n",
    "hora = int(hora)"
   ]
  },
  {
   "cell_type": "code",
   "execution_count": 9,
   "metadata": {},
   "outputs": [],
   "source": [
    "#https://www.youtube.com/watch?v=PouhDHfssYA \n",
    "G = nx.Graph()\n",
    "if hora <= 6 or hora >= 22:\n",
    "  G.add_edge(\"1,1\", \"2,7\", weight=466)\n",
    "  G.add_edge(\"1,1\", \"8,1.6\", weight=477)\n",
    "  G.add_edge(\"2,7\", \"6.7,7.5\", weight=347*1.5)\n",
    "  G.add_edge(\"6.7,7.5\", \"6.3, 10\", weight=158)\n",
    "  G.add_edge(\"6.7,7.5\", \"7.5,4\", weight= 231.5)\n",
    "  G.add_edge(\"7.5,4\", \"8,1.6\", weight=231.5)\n",
    "  G.add_edge(\"8,1.6\", \"9,1.8\", weight=96)\n",
    "  G.add_edge(\"9,1.8\", \"12,2.3\", weight=202)\n",
    "elif hora >= 7 or hora == 8 or hora == 10 or hora == 16 or hora == 21:\n",
    "  G.add_edge(\"1,1\", \"2,7\", weight=466)\n",
    "  G.add_edge(\"1,1\", \"8,1.6\", weight=477)\n",
    "  G.add_edge(\"2,7\", \"6.7,7.5\", weight=347*1.5)\n",
    "  G.add_edge(\"6.7,7.5\", \"6.3, 10\", weight=158)\n",
    "  G.add_edge(\"6.7,7.5\", \"7.5,4\", weight= 231.5*1.5)\n",
    "  G.add_edge(\"7.5,4\", \"8,1.6\", weight=231.5)\n",
    "  G.add_edge(\"8,1.6\", \"9,1.8\", weight=96)\n",
    "  G.add_edge(\"9,1.8\", \"12,2.3\", weight=202)\n",
    "elif hora == 9 or hora == 11 or hora == 12 or hora == 17 or hora == 18 or hora == 19 or hora == 20:\n",
    "  G.add_edge(\"1,1\", \"2,7\", weight=466)\n",
    "  G.add_edge(\"1,1\", \"8,1.6\", weight=477)\n",
    "  G.add_edge(\"2,7\", \"6.7,7.5\", weight=347*2)\n",
    "  G.add_edge(\"6.7,7.5\", \"6.3, 10\", weight=158*1.5)\n",
    "  G.add_edge(\"6.7,7.5\", \"7.5,4\", weight= 231.5*2)\n",
    "  G.add_edge(\"7.5,4\", \"8,1.6\", weight=231.5)\n",
    "  G.add_edge(\"8,1.6\", \"9,1.8\", weight=96)\n",
    "  G.add_edge(\"9,1.8\", \"12,2.3\", weight=202)\n",
    "elif hora == 13 or hora == 14 or hora == 15:\n",
    "  G.add_edge(\"1,1\", \"2,7\", weight=466)\n",
    "  G.add_edge(\"1,1\", \"8,1.6\", weight=477*1.5)\n",
    "  G.add_edge(\"2,7\", \"6.7,7.5\", weight=347*2.5)\n",
    "  G.add_edge(\"6.7,7.5\", \"6.3, 10\", weight=158*2)\n",
    "  G.add_edge(\"6.7,7.5\", \"7.5,4\", weight= 231.5*2.5)\n",
    "  G.add_edge(\"7.5,4\", \"8,1.6\", weight=231.5)\n",
    "  G.add_edge(\"8,1.6\", \"9,1.8\", weight=96)\n",
    "  G.add_edge(\"9,1.8\", \"12,2.3\", weight=202)"
   ]
  },
  {
   "cell_type": "code",
   "execution_count": 10,
   "metadata": {},
   "outputs": [
    {
     "data": {
      "image/png": "[encoded data removed]",
      "text/plain": [
       "<Figure size 432x288 with 1 Axes>"
      ]
     },
     "metadata": {},
     "output_type": "display_data"
    }
   ],
   "source": [
    "nx.draw_networkx(G, with_labels = True)"
   ]
  },
  {
   "cell_type": "code",
   "execution_count": 11,
   "metadata": {},
   "outputs": [
    {
     "name": "stdout",
     "output_type": "stream",
     "text": [
      "['1,1', '8,1.6', '7.5,4', '6.7,7.5']\n"
     ]
    }
   ],
   "source": [
    "#https://networkx.org/documentation/stable/reference/algorithms/generated/networkx.algorithms.shortest_paths.weighted.dijkstra_path.html \n",
    "print(nx.dijkstra_path(G, source=salida, target=meta))"
   ]
  },
  {
   "cell_type": "code",
   "execution_count": 45,
   "metadata": {},
   "outputs": [
    {
     "ename": "AttributeError",
     "evalue": "'AxesSubplot' object has no attribute 'show'",
     "output_type": "error",
     "traceback": [
      "\u001b[1;31m---------------------------------------------------------------------------\u001b[0m",
      "\u001b[1;31mAttributeError\u001b[0m                            Traceback (most recent call last)",
      "\u001b[1;32mc:\\Users\\rober\\OneDrive\\Escritorio\\PythonModelTrafficTec\\grafos.ipynb Cell 8\u001b[0m in \u001b[0;36m<cell line: 26>\u001b[1;34m()\u001b[0m\n\u001b[0;32m     <a href='vscode-notebook-cell:/c%3A/Users/rober/OneDrive/Escritorio/PythonModelTrafficTec/grafos.ipynb#X10sZmlsZQ%3D%3D?line=19'>20</a>\u001b[0m ax\u001b[39m.\u001b[39mplot(x1, y1, linewidth\u001b[39m=\u001b[39m\u001b[39m2.0\u001b[39m)\n\u001b[0;32m     <a href='vscode-notebook-cell:/c%3A/Users/rober/OneDrive/Escritorio/PythonModelTrafficTec/grafos.ipynb#X10sZmlsZQ%3D%3D?line=22'>23</a>\u001b[0m ax\u001b[39m.\u001b[39mset(xlim\u001b[39m=\u001b[39m(\u001b[39m0\u001b[39m, \u001b[39m15\u001b[39m), xticks\u001b[39m=\u001b[39mnp\u001b[39m.\u001b[39marange(\u001b[39m1\u001b[39m, \u001b[39m15\u001b[39m),\n\u001b[0;32m     <a href='vscode-notebook-cell:/c%3A/Users/rober/OneDrive/Escritorio/PythonModelTrafficTec/grafos.ipynb#X10sZmlsZQ%3D%3D?line=23'>24</a>\u001b[0m        ylim\u001b[39m=\u001b[39m(\u001b[39m0\u001b[39m, \u001b[39m15\u001b[39m), yticks\u001b[39m=\u001b[39mnp\u001b[39m.\u001b[39marange(\u001b[39m1\u001b[39m, \u001b[39m15\u001b[39m))\n\u001b[1;32m---> <a href='vscode-notebook-cell:/c%3A/Users/rober/OneDrive/Escritorio/PythonModelTrafficTec/grafos.ipynb#X10sZmlsZQ%3D%3D?line=25'>26</a>\u001b[0m ax\u001b[39m.\u001b[39;49mshow()\n",
      "\u001b[1;31mAttributeError\u001b[0m: 'AxesSubplot' object has no attribute 'show'"
     ]
    },
    {
     "data": {
      "image/png": "[encoded data removed]",
      "text/plain": [
       "<Figure size 144x144 with 1 Axes>"
      ]
     },
     "metadata": {
      "needs_background": "light"
     },
     "output_type": "display_data"
    }
   ],
   "source": [
    "lista = nx.dijkstra_path(G, source=salida, target=meta)\n",
    "\n",
    "\n",
    "plt.style.use('_mpl-gallery')\n",
    "\n",
    "# make data\n",
    "x = np.linspace(1, 2, 100)\n",
    "y = 6 * x - 5\n",
    "# plot\n",
    "fig, ax = plt.subplots()\n",
    "\n",
    "\n",
    "\n",
    "\n",
    "x1 = np.linspace(1, 2, 100)\n",
    "y1 = 6 * x + 5\n",
    "# plot\n",
    "\n",
    "ax.plot(x, y, linewidth=2.0)\n",
    "ax.plot(x1, y1, linewidth=2.0)\n",
    "\n",
    "\n",
    "ax.set(xlim=(0, 15), xticks=np.arange(1, 15),\n",
    "       ylim=(0, 15), yticks=np.arange(1, 15))\n",
    "\n",
    "ax.show()"
   ]
  }
 ],
 "metadata": {
  "kernelspec": {
   "display_name": "Python 3.10.2 64-bit",
   "language": "python",
   "name": "python3"
  },
  "language_info": {
   "codemirror_mode": {
    "name": "ipython",
    "version": 3
   },
   "file_extension": ".py",
   "mimetype": "text/x-python",
   "name": "python",
   "nbconvert_exporter": "python",
   "pygments_lexer": "ipython3",
   "version": "3.10.2"
  },
  "orig_nbformat": 4,
  "vscode": {
   "interpreter": {
    "hash": "67783390838d2e02912aac04d405c75735cc05868bfeaabbe6ec2bbdb2e2542d"
   }
  }
 },
 "nbformat": 4,
 "nbformat_minor": 2
}
