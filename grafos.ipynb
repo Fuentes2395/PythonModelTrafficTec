{
 "cells": [
  {
   "cell_type": "code",
   "execution_count": null,
   "metadata": {},
   "outputs": [],
   "source": [
    "pip install networkx[default]"
   ]
  },
  {
   "cell_type": "code",
   "execution_count": null,
   "metadata": {},
   "outputs": [],
   "source": [
    "#https://networkx.org/documentation \n",
    "import networkx as nx"
   ]
  },
  {
   "cell_type": "code",
   "execution_count": null,
   "metadata": {},
   "outputs": [],
   "source": [
    "salida = input(\"Punto de partida: \")\n",
    "meta = input(\"Meta: \")"
   ]
  },
  {
   "cell_type": "code",
   "execution_count": null,
   "metadata": {},
   "outputs": [],
   "source": [
    "hora = input(\"Hora: \")\n",
    "hora = int(hora)"
   ]
  },
  {
   "cell_type": "code",
   "execution_count": null,
   "metadata": {},
   "outputs": [],
   "source": [
    "#https://www.youtube.com/watch?v=PouhDHfssYA \n",
    "G = nx.Graph()\n",
    "if hora <= 6 or hora >= 22:\n",
    "  G.add_edge(\"1,1\", \"2,7\", weight=466)\n",
    "  G.add_edge(\"1,1\", \"8,1.6\", weight=477)\n",
    "  G.add_edge(\"2,7\", \"6.7,7.5\", weight=347*1.5)\n",
    "  G.add_edge(\"6.7,7.5\", \"6.3, 10\", weight=158)\n",
    "  G.add_edge(\"6.7,7.5\", \"7.5,4\", weight= 231.5)\n",
    "  G.add_edge(\"7.5,4\", \"8,1.6\", weight=231.5)\n",
    "  G.add_edge(\"8,1.6\", \"9,1.8\", weight=96)\n",
    "  G.add_edge(\"9,1.8\", \"12,2.3\", weight=202)\n",
    "elif hora >= 7 or hora == 8 or hora == 10 or hora == 16 or hora == 21:\n",
    "  G.add_edge(\"1,1\", \"2,7\", weight=466)\n",
    "  G.add_edge(\"1,1\", \"8,1.6\", weight=477)\n",
    "  G.add_edge(\"2,7\", \"6.7,7.5\", weight=347*1.5)\n",
    "  G.add_edge(\"6.7,7.5\", \"6.3, 10\", weight=158)\n",
    "  G.add_edge(\"6.7,7.5\", \"7.5,4\", weight= 231.5*1.5)\n",
    "  G.add_edge(\"7.5,4\", \"8,1.6\", weight=231.5)\n",
    "  G.add_edge(\"8,1.6\", \"9,1.8\", weight=96)\n",
    "  G.add_edge(\"9,1.8\", \"12,2.3\", weight=202)\n",
    "elif hora == 9 or hora == 11 or hora == 12 or hora == 17 or hora == 18 or hora == 19 or hora == 20:\n",
    "  G.add_edge(\"1,1\", \"2,7\", weight=466)\n",
    "  G.add_edge(\"1,1\", \"8,1.6\", weight=477)\n",
    "  G.add_edge(\"2,7\", \"6.7,7.5\", weight=347*2)\n",
    "  G.add_edge(\"6.7,7.5\", \"6.3, 10\", weight=158*1.5)\n",
    "  G.add_edge(\"6.7,7.5\", \"7.5,4\", weight= 231.5*2)\n",
    "  G.add_edge(\"7.5,4\", \"8,1.6\", weight=231.5)\n",
    "  G.add_edge(\"8,1.6\", \"9,1.8\", weight=96)\n",
    "  G.add_edge(\"9,1.8\", \"12,2.3\", weight=202)\n",
    "elif hora == 13 or hora == 14 or hora == 15:\n",
    "  G.add_edge(\"1,1\", \"2,7\", weight=466)\n",
    "  G.add_edge(\"1,1\", \"8,1.6\", weight=477*1.5)\n",
    "  G.add_edge(\"2,7\", \"6.7,7.5\", weight=347*2.5)\n",
    "  G.add_edge(\"6.7,7.5\", \"6.3, 10\", weight=158*2)\n",
    "  G.add_edge(\"6.7,7.5\", \"7.5,4\", weight= 231.5*2.5)\n",
    "  G.add_edge(\"7.5,4\", \"8,1.6\", weight=231.5)\n",
    "  G.add_edge(\"8,1.6\", \"9,1.8\", weight=96)\n",
    "  G.add_edge(\"9,1.8\", \"12,2.3\", weight=202)"
   ]
  },
  {
   "cell_type": "code",
   "execution_count": null,
   "metadata": {},
   "outputs": [],
   "source": [
    "nx.draw_networkx(G, with_labels = True)"
   ]
  },
  {
   "cell_type": "code",
   "execution_count": null,
   "metadata": {},
   "outputs": [],
   "source": [
    "#https://networkx.org/documentation/stable/reference/algorithms/generated/networkx.algorithms.shortest_paths.weighted.dijkstra_path.html \n",
    "print(nx.dijkstra_path(G, source=salida, target=meta))"
   ]
  }
 ],
 "metadata": {
  "language_info": {
   "name": "python"
  },
  "orig_nbformat": 4
 },
 "nbformat": 4,
 "nbformat_minor": 2
}
